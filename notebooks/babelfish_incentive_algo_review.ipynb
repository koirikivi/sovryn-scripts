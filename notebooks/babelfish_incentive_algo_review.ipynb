{
 "cells": [
  {
   "cell_type": "code",
   "execution_count": 20,
   "metadata": {},
   "outputs": [],
   "source": [
    "from sympy import symbols, Function, Eq, Symbol, Abs\n"
   ]
  },
  {
   "cell_type": "code",
   "execution_count": 84,
   "metadata": {},
   "outputs": [],
   "source": [
    "ONE = Symbol('10^18')\n",
    "ONE_INT = 1000000000000000000"
   ]
  },
  {
   "cell_type": "code",
   "execution_count": 85,
   "metadata": {},
   "outputs": [
    {
     "data": {
      "text/latex": [
       "$\\displaystyle \\operatorname{dsqr}{\\left(x,y \\right)} = \\frac{\\left|{x - y}\\right|^{2}}{10^{18}}$"
      ],
      "text/plain": [
       "Eq(dsqr(x, y), Abs(x - y)**2/10^18)"
      ]
     },
     "execution_count": 85,
     "metadata": {},
     "output_type": "execute_result"
    }
   ],
   "source": [
    "x, y = symbols('x y')\n",
    "dsqr = Function('dsqr')(x, y)\n",
    "dsqr_expr =  Abs(x - y)**2 / ONE\n",
    "Eq(dsqr, dsqr_expr)"
   ]
  },
  {
   "cell_type": "code",
   "execution_count": 86,
   "metadata": {},
   "outputs": [
    {
     "data": {
      "text/latex": [
       "$\\displaystyle \\operatorname{getWeight}{\\left(bal,total \\right)} = \\frac{10^{18} bal}{total}$"
      ],
      "text/plain": [
       "Eq(getWeight(bal, total), 10^18*bal/total)"
      ]
     },
     "execution_count": 86,
     "metadata": {},
     "output_type": "execute_result"
    }
   ],
   "source": [
    "bal, total = symbols(\"bal total\")\n",
    "get_weight = Function('getWeight')(bal, total)\n",
    "get_weight_expr = ONE * bal / total\n",
    "Eq(get_weight, get_weight_expr)"
   ]
  },
  {
   "cell_type": "code",
   "execution_count": 124,
   "metadata": {},
   "outputs": [
    {
     "data": {
      "text/latex": [
       "$\\displaystyle {D}_{before} = \\frac{\\sum_{i=1}^{N} \\frac{\\left|{\\frac{10^{18} {b}_{i}}{T} - {t}_{i}}\\right|^{2}}{10^{18}}}{N}$"
      ],
      "text/plain": [
       "Eq(D[before], Sum(Abs(10^18*b[i]/T - t[i])**2/10^18, (i, 1, N))/N)"
      ]
     },
     "execution_count": 124,
     "metadata": {},
     "output_type": "execute_result"
    }
   ],
   "source": [
    "from sympy import IndexedBase, Sum, simplify\n",
    "\n",
    "basset, sum, N, i = symbols('basset sum N i')\n",
    "D, T, b, w, t = [IndexedBase(s) for s in 'DTbwt']\n",
    "D_sum_body = dsqr_expr.subs({\n",
    "        x: t[i],\n",
    "        y: get_weight_expr.subs({bal: b[i], total: T})\n",
    "})\n",
    "D_expr =  Sum(\n",
    "    D_sum_body,\n",
    "    (i, 1, N)\n",
    ") / N\n",
    "#Eq(D['before'], simplify(D_expr))\n",
    "Eq(D['before'], D_expr)"
   ]
  },
  {
   "cell_type": "code",
   "execution_count": 167,
   "metadata": {},
   "outputs": [
    {
     "data": {
      "text/latex": [
       "$\\displaystyle \\frac{\\left|{\\frac{10^{18} {b}_{i}}{T} - {t}_{i}}\\right|^{2}}{10^{18}}$"
      ],
      "text/plain": [
       "Abs(10^18*b[i]/T - t[i])**2/10^18"
      ]
     },
     "execution_count": 167,
     "metadata": {},
     "output_type": "execute_result"
    }
   ],
   "source": [
    "D_sum_body"
   ]
  },
  {
   "cell_type": "code",
   "execution_count": 190,
   "metadata": {},
   "outputs": [
    {
     "data": {
      "text/latex": [
       "$\\displaystyle \\frac{\\left|{10^{18}}\\right|^{2}}{16 \\cdot 10^{18}}$"
      ],
      "text/plain": [
       "Abs(10^18)**2/(16*10^18)"
      ]
     },
     "execution_count": 190,
     "metadata": {},
     "output_type": "execute_result"
    }
   ],
   "source": [
    "D_sum_body.subs([[b[i], 10**20//4], [T, 10**20], [t[i], ONE/2]])"
   ]
  },
  {
   "cell_type": "code",
   "execution_count": 192,
   "metadata": {},
   "outputs": [
    {
     "name": "stdout",
     "output_type": "stream",
     "text": [
      "0 >= D_sum_body >= ONE\n"
     ]
    }
   ],
   "source": [
    "print(\"0 >= D_sum_body >= ONE\")"
   ]
  },
  {
   "cell_type": "code",
   "execution_count": 160,
   "metadata": {},
   "outputs": [
    {
     "data": {
      "text/latex": [
       "$\\displaystyle {D}_{before} = 0$"
      ],
      "text/plain": [
       "Eq(D[before], 0)"
      ]
     },
     "execution_count": 160,
     "metadata": {},
     "output_type": "execute_result"
    }
   ],
   "source": [
    "# Sum body of one weight, should always be one\n",
    "subs = [[t[i], ONE], [b[i], 10**20], [T, 10**20]]\n",
    "Eq(D['before'], D_sum_body.subs(subs))"
   ]
  },
  {
   "cell_type": "code",
   "execution_count": 161,
   "metadata": {},
   "outputs": [],
   "source": [
    "total = 10**20\n",
    "targets = [10]"
   ]
  },
  {
   "cell_type": "code",
   "execution_count": 162,
   "metadata": {},
   "outputs": [
    {
     "data": {
      "text/latex": [
       "$\\displaystyle {V}_{before} = \\frac{10^{18} {D}_{before}}{10^{18} - {D}_{before}}$"
      ],
      "text/plain": [
       "Eq(V[before], 10^18*D[before]/(10^18 - D[before]))"
      ]
     },
     "execution_count": 162,
     "metadata": {},
     "output_type": "execute_result"
    }
   ],
   "source": [
    "V = IndexedBase('V')\n",
    "V_before = (D['before'] * ONE) / (ONE - D['before'])\n",
    "V_after = (D['after'] * ONE) / (ONE - D['after'])\n",
    "Eq(V['before'], V_before)\n"
   ]
  },
  {
   "cell_type": "code",
   "execution_count": 163,
   "metadata": {},
   "outputs": [
    {
     "data": {
      "text/latex": [
       "$\\displaystyle {V}_{after} = \\frac{10^{18} {D}_{after}}{10^{18} - {D}_{after}}$"
      ],
      "text/plain": [
       "Eq(V[after], 10^18*D[after]/(10^18 - D[after]))"
      ]
     },
     "execution_count": 163,
     "metadata": {},
     "output_type": "execute_result"
    }
   ],
   "source": [
    "Eq(V['after'], V_after)"
   ]
  },
  {
   "cell_type": "code",
   "execution_count": 164,
   "metadata": {},
   "outputs": [
    {
     "data": {
      "text/latex": [
       "$\\displaystyle \\frac{F S \\left(\\frac{10^{18} {D}_{before}}{10^{18} - {D}_{before}} - \\frac{10^{18} {D}_{after}}{10^{18} - {D}_{after}}\\right)}{\\left(10^{18}\\right)^{2}}$"
      ],
      "text/plain": [
       "F*S*(10^18*D[before]/(10^18 - D[before]) - 10^18*D[after]/(10^18 - D[after]))/10^18**2"
      ]
     },
     "execution_count": 164,
     "metadata": {},
     "output_type": "execute_result"
    }
   ],
   "source": [
    "F, S = symbols('F S')\n",
    "reward = F * (V_before - V_after) / ONE * S / ONE\n",
    "reward"
   ]
  },
  {
   "cell_type": "code",
   "execution_count": 165,
   "metadata": {},
   "outputs": [
    {
     "data": {
      "text/latex": [
       "$\\displaystyle \\frac{{D}_{before}}{10^{18} - {D}_{before}}$"
      ],
      "text/plain": [
       "D[before]/(10^18 - D[before])"
      ]
     },
     "execution_count": 165,
     "metadata": {},
     "output_type": "execute_result"
    }
   ],
   "source": [
    "V_before / ONE"
   ]
  },
  {
   "cell_type": "code",
   "execution_count": 166,
   "metadata": {},
   "outputs": [
    {
     "data": {
      "text/latex": [
       "$\\displaystyle \\frac{F S {D}_{before}}{\\left(10^{18}\\right)^{2} \\cdot \\left(10^{18} - {D}_{before}\\right)}$"
      ],
      "text/plain": [
       "F*S*D[before]/(10^18**2*(10^18 - D[before]))"
      ]
     },
     "execution_count": 166,
     "metadata": {},
     "output_type": "execute_result"
    }
   ],
   "source": [
    "F * (V_before / ONE) / ONE * S / ONE"
   ]
  }
 ],
 "metadata": {
  "kernelspec": {
   "display_name": "Python 3 (ipykernel)",
   "language": "python",
   "name": "python3"
  },
  "language_info": {
   "codemirror_mode": {
    "name": "ipython",
    "version": 3
   },
   "file_extension": ".py",
   "mimetype": "text/x-python",
   "name": "python",
   "nbconvert_exporter": "python",
   "pygments_lexer": "ipython3",
   "version": "3.8.6"
  }
 },
 "nbformat": 4,
 "nbformat_minor": 1
}
