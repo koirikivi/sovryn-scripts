{
 "cells": [
  {
   "cell_type": "code",
   "execution_count": 16,
   "metadata": {
    "collapsed": true
   },
   "outputs": [
    {
     "data": {
      "text/plain": "      from_chain     to_chain  \\\n0    rsk_mainnet  eth_mainnet   \n1    rsk_mainnet  eth_mainnet   \n2    rsk_mainnet  eth_mainnet   \n3    rsk_mainnet  eth_mainnet   \n4    rsk_mainnet  eth_mainnet   \n..           ...          ...   \n232  bsc_mainnet  rsk_mainnet   \n233  bsc_mainnet  rsk_mainnet   \n234  bsc_mainnet  rsk_mainnet   \n235  bsc_mainnet  rsk_mainnet   \n236  bsc_mainnet  rsk_mainnet   \n\n                                                         transaction_id  \\\n0    0xbf251790d49a42a35671be257d7854c63e3c1c126ba0bab1e22e5c00898d578d   \n1    0x65e05968c5cb1e5a3be671fdfc74b5f3339db156bbd3080f24b830c69f9701cf   \n2    0x563aed7d3c6f37bed878313b7b194557674e5aea295ecb13a6b66641e88a80d6   \n3    0x607d508fa280836169325f9cad582c9575e261c8d2ffd5fb72d4a259cd761548   \n4    0xb9955fad4d6719e6a271090c5970397ae24fb738c6eaff3314f1545779f13dc1   \n..                                                                  ...   \n232  0x8c50b40fece6cf8cbaa122aeb7afc05ca0f4f5f73abf29f6f140b4064f0a2615   \n233  0x7a37157014b4c154e8869f4935b59f8a2eacda7dc00bbcab26b351d20882b74b   \n234  0x9de57f85ba1d0ecd5e1065541a25736c7836eeea8e764e1d3c7250124e3a7504   \n235  0x6e0f485c2c4a4c7e4c1e75e3a1d0310775fe6f9afbb3b450ba523bc4effc65d8   \n236  0xf904d2121d5c7367d60186c9bde8e9882af27802bab4529aeabde766dd872484   \n\n     was_processed  num_votes                            receiver_address  \\\n0             True          3  0x1F3555E9572aF36C2a0f0Ec54fa929c5f7D04223   \n1             True          3  0x50693E63A0Abb825B1Ba99564954D45B6e45A632   \n2             True          3  0x7d4e46dAC2c65Cb43960024405fe5D5e7068FF43   \n3             True          3  0x7d4e46dAC2c65Cb43960024405fe5D5e7068FF43   \n4             True          3  0x9eB877220534149831aBeD242A1E7d31BDFC6fBc   \n..             ...        ...                                         ...   \n232           True          3  0x4BF113905d7F69202106F613308bb02C84AaDF2F   \n233           True          3  0x4BF113905d7F69202106F613308bb02C84AaDF2F   \n234           True          3  0x4BF113905d7F69202106F613308bb02C84AaDF2F   \n235           True          3  0xafD905Fe2EdBF5A7367A73B0F1e6a62Cb5E27D3e   \n236           True          3  0x1440d19436bEeaF8517896bffB957a88EC95a00F   \n\n                                  token_address token_symbol  \\\n0    0xEFc78fc7d48b64958315949279Ba181c2114ABBd          SOV   \n1    0xEFc78fc7d48b64958315949279Ba181c2114ABBd          SOV   \n2    0xD412aCD34A832a09c80C8A4895fF46d733F09538        ETHes   \n3    0xD412aCD34A832a09c80C8A4895fF46d733F09538        ETHes   \n4    0xA0b86991c6218b36c1d19D4a2e9Eb0cE3606eB48       USDCes   \n..                                          ...          ...   \n232  0x2170Ed0880ac9A755fd29B2688956BD959F933F8          ETH   \n233  0x2170Ed0880ac9A755fd29B2688956BD959F933F8          ETH   \n234  0x2170Ed0880ac9A755fd29B2688956BD959F933F8          ETH   \n235  0xB6C313a427fa911A4C9a119e80Feea0fe20E69F0          BNB   \n236  0xe9e7CEA3DedcA5984780Bafc599bD69ADd087D56         BUSD   \n\n                 amount_wei  \\\n0     456299484245961782720   \n1     894980000000000000000   \n2        314206937427402637   \n3       1027174267065069264   \n4    9950000000000000000000   \n..                      ...   \n232     3018000000000000000   \n233     3057961014393153746   \n234     2738694500000000000   \n235      460200000000000000   \n236  5626135773004260664542   \n\n                                                              user_data  \\\n0                                                                    0x   \n1                                                                    0x   \n2                                                                    0x   \n3                                                                    0x   \n4                                                                    0x   \n..                                                                  ...   \n232  0x00000000000000000000000050693e63a0abb825b1ba99564954d45b6e45a632   \n233  0x00000000000000000000000043d184f3d9ce27d0cb306512707c467877b0e7fd   \n234  0x00000000000000000000000056a6bff6dc3f7c3d6ddf818afd4f420b8efd2fc7   \n235  0x000000000000000000000000d4d4aff9d42d64a9ea214cf03805390be14c1665   \n236  0x000000000000000000000000f9ec946c7d7fa6189147eee1c2b7bf418e7eb705   \n\n     event_block_number  \\\n0               3598046   \n1               3598046   \n2               3598056   \n3               3598063   \n4               3598090   \n..                  ...   \n232            10066724   \n233            10068912   \n234            10072771   \n235            10075930   \n236            10077496   \n\n                                                       event_block_hash  \\\n0    0xe23477e7f1cb4b04c4fe12f4033d1fbd35386ef7b032ea7d5b84bc7feaf52c4a   \n1    0xe23477e7f1cb4b04c4fe12f4033d1fbd35386ef7b032ea7d5b84bc7feaf52c4a   \n2    0x725dfaf6ca47cd16561629a6356fb0a7ce1dd41e330432de12fa18ba5b040fc9   \n3    0xd2bd6953f2da67a2c711e31fef6b5ae92f64d37968879055b6d8c15d319fc734   \n4    0x3bf1770d6e77f006063d57c98dd559a2c05c8e9e359c003fe974fb8abd69164e   \n..                                                                  ...   \n232  0xd495e65c8bc4569024bb00e2dfa9346faa5c6dfe9767946080537806b0821dd6   \n233  0xa7b5156dc6447e7c59dd5ceb0a3fab03897ec9e7a76219b0059e2d6681e2f4eb   \n234  0xf72c4066443c5658bf4b43f743f9564a05ef1728991605552dd792893e19a606   \n235  0xd18325314902517d0e6858a0888ed9b4873a085f9dea386256d45e6201ebd590   \n236  0x2eb56916a4fa9951824949b17589728d78ec22d09e4e177bb07d92243b11132d   \n\n                                                 event_transaction_hash  \\\n0    0xbafe00d62fb331f596e4b031658b93e4673da951ce35413d8cfbaa63c0a84080   \n1    0x4f33ba26d906f8e8924cdc7e9d655d52d98640bb302ddb2216d59ada60e264d0   \n2    0xed74ff35a30e818fb2d5bcabf499edf9a174cc03d9c13e99028f68b7547acb8f   \n3    0x828bfca2faf9324ba9551981a19ea537e94f2c2b9ee4e90187ae4e2fa788e0b3   \n4    0xcbfb11f5314395b0edf2252adf219ee0dda57c6ed4f5a75bb23f11717a42860b   \n..                                                                  ...   \n232  0x9f30fea3a48f43d0a71a2f4cbaff30bb02adc912735357d184f978d7be0fb309   \n233  0xdc91c125e4a10a84aabcd4c369460efd35cddcea9ebb075dc691c57408f88ae9   \n234  0xc64765fe5db1f818a52f5ace3554b404046d8dcf855e38d1117d14116d78967f   \n235  0xb132bdb3fbef2b140e0e7e08d4b857f6eb735e05a1452e211fc3737129c03609   \n236  0x29fb831ea4a20db2191d2d2c62fd9628a1d83b6b61bd846b2d93dd5992ae1663   \n\n     event_log_index  \\\n0                  3   \n1                  3   \n2                  8   \n3                  8   \n4                  8   \n..               ...   \n232              445   \n233              456   \n234              144   \n235              262   \n236              602   \n\n                                              executed_transaction_hash  \\\n0    0x25629f3ea291fab4180d5019b037cf99b13fcfd8e1e428e3c575de1b61285149   \n1    0xb2d745ece67026622bf7afb24b9d3ede1a89455dc81fd6c4289df03c39cac22e   \n2    0xa87b6251cc561a669fa6e5755cafd4064d2c6fbf38bbfd20a7f253ef92aa033c   \n3    0x808874b0d58c625ee9b88c9bc2368c477972a490739c1bddc6d4c20d5c677805   \n4    0xf5007c5c057146249c54a8d2988e6d9a174704de6eb0b061ce8625d7936ac872   \n..                                                                  ...   \n232  0xbf52389fa1338327f47252a8966a414e58f92e2a1f64dd417b82c8c8df1f44ca   \n233  0x94a39d6949ba458a041d00160171faaf0c15bb5b6cacf5b6cc197b96cf9f6948   \n234  0x7e3eb21dc2c57d798f92de8fbaaeffc7743391ddac6a0e8e3282699e2ded7be7   \n235  0x8075565ecb909de90e95b635bc7218151b2fbbff797db984b2ff5dd1abc0eca0   \n236  0x6d56e32ea6fef8c5dd011a2870f95f9067ff7df1b4a91d067fd0964fb42a1e8f   \n\n                                                    executed_block_hash  \\\n0    0x9fa04c0f1c0d4c00f9f759bc886e21b17f2328c599885d47c1362725b349126d   \n1    0x04e9f11710709a9ad21448baaa419eae4494bbb7ac3757d8cd1d8e595f4f70ef   \n2    0x0f1a256fd5cac98a90241416e6c00c3f9fa5d378127de4eac325401619c37469   \n3    0x94fc2f4efe43b597f8d1eff184755cc69ee4c6b7de5b10391d26df9a28147f14   \n4    0x2e62ddd981d2e1611744e08c418c99f0c75907b7f43319918df8482078caa5f5   \n..                                                                  ...   \n232  0xd29b98e74a592bb8a1ea3854e24c7ad7551e040a746a79c1552cbd0aa22841b3   \n233  0x4f5b8e4d6926d7f4532e63a57c6505aeb003ef952b26afecca248b1957f95f3e   \n234  0xb23257c41b553b4663101ca404d4c9c01395490f1513f9156a99e5ea34940281   \n235  0x46bcaf2d60c5b2df95f7a3f46527d039b85aa1f08a20a502000800b2bfd7d85c   \n236  0x10509309243e0064ef0c1a7628286887fceb70710c02605042f2de62cea2ff58   \n\n     executed_block_number  executed_log_index  \\\n0               13017679.0               171.0   \n1               13017754.0               441.0   \n2               13017655.0               376.0   \n3               13017693.0               132.0   \n4               13017800.0               106.0   \n..                     ...                 ...   \n232              3604855.0                 8.0   \n233              3605077.0                 8.0   \n234              3605449.0                 8.0   \n235              3605760.0                 8.0   \n236              3605919.0                 8.0   \n\n     has_error_token_receiver_events error_data  \n0                              False         0x  \n1                              False         0x  \n2                              False         0x  \n3                              False         0x  \n4                              False         0x  \n..                               ...        ...  \n232                            False         0x  \n233                            False         0x  \n234                            False         0x  \n235                            False         0x  \n236                            False         0x  \n\n[323 rows x 20 columns]",
      "text/html": "<div>\n<style scoped>\n    .dataframe tbody tr th:only-of-type {\n        vertical-align: middle;\n    }\n\n    .dataframe tbody tr th {\n        vertical-align: top;\n    }\n\n    .dataframe thead th {\n        text-align: right;\n    }\n</style>\n<table border=\"1\" class=\"dataframe\">\n  <thead>\n    <tr style=\"text-align: right;\">\n      <th></th>\n      <th>from_chain</th>\n      <th>to_chain</th>\n      <th>transaction_id</th>\n      <th>was_processed</th>\n      <th>num_votes</th>\n      <th>receiver_address</th>\n      <th>token_address</th>\n      <th>token_symbol</th>\n      <th>amount_wei</th>\n      <th>user_data</th>\n      <th>event_block_number</th>\n      <th>event_block_hash</th>\n      <th>event_transaction_hash</th>\n      <th>event_log_index</th>\n      <th>executed_transaction_hash</th>\n      <th>executed_block_hash</th>\n      <th>executed_block_number</th>\n      <th>executed_log_index</th>\n      <th>has_error_token_receiver_events</th>\n      <th>error_data</th>\n    </tr>\n  </thead>\n  <tbody>\n    <tr>\n      <th>0</th>\n      <td>rsk_mainnet</td>\n      <td>eth_mainnet</td>\n      <td>0xbf251790d49a42a35671be257d7854c63e3c1c126ba0bab1e22e5c00898d578d</td>\n      <td>True</td>\n      <td>3</td>\n      <td>0x1F3555E9572aF36C2a0f0Ec54fa929c5f7D04223</td>\n      <td>0xEFc78fc7d48b64958315949279Ba181c2114ABBd</td>\n      <td>SOV</td>\n      <td>456299484245961782720</td>\n      <td>0x</td>\n      <td>3598046</td>\n      <td>0xe23477e7f1cb4b04c4fe12f4033d1fbd35386ef7b032ea7d5b84bc7feaf52c4a</td>\n      <td>0xbafe00d62fb331f596e4b031658b93e4673da951ce35413d8cfbaa63c0a84080</td>\n      <td>3</td>\n      <td>0x25629f3ea291fab4180d5019b037cf99b13fcfd8e1e428e3c575de1b61285149</td>\n      <td>0x9fa04c0f1c0d4c00f9f759bc886e21b17f2328c599885d47c1362725b349126d</td>\n      <td>13017679.0</td>\n      <td>171.0</td>\n      <td>False</td>\n      <td>0x</td>\n    </tr>\n    <tr>\n      <th>1</th>\n      <td>rsk_mainnet</td>\n      <td>eth_mainnet</td>\n      <td>0x65e05968c5cb1e5a3be671fdfc74b5f3339db156bbd3080f24b830c69f9701cf</td>\n      <td>True</td>\n      <td>3</td>\n      <td>0x50693E63A0Abb825B1Ba99564954D45B6e45A632</td>\n      <td>0xEFc78fc7d48b64958315949279Ba181c2114ABBd</td>\n      <td>SOV</td>\n      <td>894980000000000000000</td>\n      <td>0x</td>\n      <td>3598046</td>\n      <td>0xe23477e7f1cb4b04c4fe12f4033d1fbd35386ef7b032ea7d5b84bc7feaf52c4a</td>\n      <td>0x4f33ba26d906f8e8924cdc7e9d655d52d98640bb302ddb2216d59ada60e264d0</td>\n      <td>3</td>\n      <td>0xb2d745ece67026622bf7afb24b9d3ede1a89455dc81fd6c4289df03c39cac22e</td>\n      <td>0x04e9f11710709a9ad21448baaa419eae4494bbb7ac3757d8cd1d8e595f4f70ef</td>\n      <td>13017754.0</td>\n      <td>441.0</td>\n      <td>False</td>\n      <td>0x</td>\n    </tr>\n    <tr>\n      <th>2</th>\n      <td>rsk_mainnet</td>\n      <td>eth_mainnet</td>\n      <td>0x563aed7d3c6f37bed878313b7b194557674e5aea295ecb13a6b66641e88a80d6</td>\n      <td>True</td>\n      <td>3</td>\n      <td>0x7d4e46dAC2c65Cb43960024405fe5D5e7068FF43</td>\n      <td>0xD412aCD34A832a09c80C8A4895fF46d733F09538</td>\n      <td>ETHes</td>\n      <td>314206937427402637</td>\n      <td>0x</td>\n      <td>3598056</td>\n      <td>0x725dfaf6ca47cd16561629a6356fb0a7ce1dd41e330432de12fa18ba5b040fc9</td>\n      <td>0xed74ff35a30e818fb2d5bcabf499edf9a174cc03d9c13e99028f68b7547acb8f</td>\n      <td>8</td>\n      <td>0xa87b6251cc561a669fa6e5755cafd4064d2c6fbf38bbfd20a7f253ef92aa033c</td>\n      <td>0x0f1a256fd5cac98a90241416e6c00c3f9fa5d378127de4eac325401619c37469</td>\n      <td>13017655.0</td>\n      <td>376.0</td>\n      <td>False</td>\n      <td>0x</td>\n    </tr>\n    <tr>\n      <th>3</th>\n      <td>rsk_mainnet</td>\n      <td>eth_mainnet</td>\n      <td>0x607d508fa280836169325f9cad582c9575e261c8d2ffd5fb72d4a259cd761548</td>\n      <td>True</td>\n      <td>3</td>\n      <td>0x7d4e46dAC2c65Cb43960024405fe5D5e7068FF43</td>\n      <td>0xD412aCD34A832a09c80C8A4895fF46d733F09538</td>\n      <td>ETHes</td>\n      <td>1027174267065069264</td>\n      <td>0x</td>\n      <td>3598063</td>\n      <td>0xd2bd6953f2da67a2c711e31fef6b5ae92f64d37968879055b6d8c15d319fc734</td>\n      <td>0x828bfca2faf9324ba9551981a19ea537e94f2c2b9ee4e90187ae4e2fa788e0b3</td>\n      <td>8</td>\n      <td>0x808874b0d58c625ee9b88c9bc2368c477972a490739c1bddc6d4c20d5c677805</td>\n      <td>0x94fc2f4efe43b597f8d1eff184755cc69ee4c6b7de5b10391d26df9a28147f14</td>\n      <td>13017693.0</td>\n      <td>132.0</td>\n      <td>False</td>\n      <td>0x</td>\n    </tr>\n    <tr>\n      <th>4</th>\n      <td>rsk_mainnet</td>\n      <td>eth_mainnet</td>\n      <td>0xb9955fad4d6719e6a271090c5970397ae24fb738c6eaff3314f1545779f13dc1</td>\n      <td>True</td>\n      <td>3</td>\n      <td>0x9eB877220534149831aBeD242A1E7d31BDFC6fBc</td>\n      <td>0xA0b86991c6218b36c1d19D4a2e9Eb0cE3606eB48</td>\n      <td>USDCes</td>\n      <td>9950000000000000000000</td>\n      <td>0x</td>\n      <td>3598090</td>\n      <td>0x3bf1770d6e77f006063d57c98dd559a2c05c8e9e359c003fe974fb8abd69164e</td>\n      <td>0xcbfb11f5314395b0edf2252adf219ee0dda57c6ed4f5a75bb23f11717a42860b</td>\n      <td>8</td>\n      <td>0xf5007c5c057146249c54a8d2988e6d9a174704de6eb0b061ce8625d7936ac872</td>\n      <td>0x2e62ddd981d2e1611744e08c418c99f0c75907b7f43319918df8482078caa5f5</td>\n      <td>13017800.0</td>\n      <td>106.0</td>\n      <td>False</td>\n      <td>0x</td>\n    </tr>\n    <tr>\n      <th>...</th>\n      <td>...</td>\n      <td>...</td>\n      <td>...</td>\n      <td>...</td>\n      <td>...</td>\n      <td>...</td>\n      <td>...</td>\n      <td>...</td>\n      <td>...</td>\n      <td>...</td>\n      <td>...</td>\n      <td>...</td>\n      <td>...</td>\n      <td>...</td>\n      <td>...</td>\n      <td>...</td>\n      <td>...</td>\n      <td>...</td>\n      <td>...</td>\n      <td>...</td>\n    </tr>\n    <tr>\n      <th>232</th>\n      <td>bsc_mainnet</td>\n      <td>rsk_mainnet</td>\n      <td>0x8c50b40fece6cf8cbaa122aeb7afc05ca0f4f5f73abf29f6f140b4064f0a2615</td>\n      <td>True</td>\n      <td>3</td>\n      <td>0x4BF113905d7F69202106F613308bb02C84AaDF2F</td>\n      <td>0x2170Ed0880ac9A755fd29B2688956BD959F933F8</td>\n      <td>ETH</td>\n      <td>3018000000000000000</td>\n      <td>0x00000000000000000000000050693e63a0abb825b1ba99564954d45b6e45a632</td>\n      <td>10066724</td>\n      <td>0xd495e65c8bc4569024bb00e2dfa9346faa5c6dfe9767946080537806b0821dd6</td>\n      <td>0x9f30fea3a48f43d0a71a2f4cbaff30bb02adc912735357d184f978d7be0fb309</td>\n      <td>445</td>\n      <td>0xbf52389fa1338327f47252a8966a414e58f92e2a1f64dd417b82c8c8df1f44ca</td>\n      <td>0xd29b98e74a592bb8a1ea3854e24c7ad7551e040a746a79c1552cbd0aa22841b3</td>\n      <td>3604855.0</td>\n      <td>8.0</td>\n      <td>False</td>\n      <td>0x</td>\n    </tr>\n    <tr>\n      <th>233</th>\n      <td>bsc_mainnet</td>\n      <td>rsk_mainnet</td>\n      <td>0x7a37157014b4c154e8869f4935b59f8a2eacda7dc00bbcab26b351d20882b74b</td>\n      <td>True</td>\n      <td>3</td>\n      <td>0x4BF113905d7F69202106F613308bb02C84AaDF2F</td>\n      <td>0x2170Ed0880ac9A755fd29B2688956BD959F933F8</td>\n      <td>ETH</td>\n      <td>3057961014393153746</td>\n      <td>0x00000000000000000000000043d184f3d9ce27d0cb306512707c467877b0e7fd</td>\n      <td>10068912</td>\n      <td>0xa7b5156dc6447e7c59dd5ceb0a3fab03897ec9e7a76219b0059e2d6681e2f4eb</td>\n      <td>0xdc91c125e4a10a84aabcd4c369460efd35cddcea9ebb075dc691c57408f88ae9</td>\n      <td>456</td>\n      <td>0x94a39d6949ba458a041d00160171faaf0c15bb5b6cacf5b6cc197b96cf9f6948</td>\n      <td>0x4f5b8e4d6926d7f4532e63a57c6505aeb003ef952b26afecca248b1957f95f3e</td>\n      <td>3605077.0</td>\n      <td>8.0</td>\n      <td>False</td>\n      <td>0x</td>\n    </tr>\n    <tr>\n      <th>234</th>\n      <td>bsc_mainnet</td>\n      <td>rsk_mainnet</td>\n      <td>0x9de57f85ba1d0ecd5e1065541a25736c7836eeea8e764e1d3c7250124e3a7504</td>\n      <td>True</td>\n      <td>3</td>\n      <td>0x4BF113905d7F69202106F613308bb02C84AaDF2F</td>\n      <td>0x2170Ed0880ac9A755fd29B2688956BD959F933F8</td>\n      <td>ETH</td>\n      <td>2738694500000000000</td>\n      <td>0x00000000000000000000000056a6bff6dc3f7c3d6ddf818afd4f420b8efd2fc7</td>\n      <td>10072771</td>\n      <td>0xf72c4066443c5658bf4b43f743f9564a05ef1728991605552dd792893e19a606</td>\n      <td>0xc64765fe5db1f818a52f5ace3554b404046d8dcf855e38d1117d14116d78967f</td>\n      <td>144</td>\n      <td>0x7e3eb21dc2c57d798f92de8fbaaeffc7743391ddac6a0e8e3282699e2ded7be7</td>\n      <td>0xb23257c41b553b4663101ca404d4c9c01395490f1513f9156a99e5ea34940281</td>\n      <td>3605449.0</td>\n      <td>8.0</td>\n      <td>False</td>\n      <td>0x</td>\n    </tr>\n    <tr>\n      <th>235</th>\n      <td>bsc_mainnet</td>\n      <td>rsk_mainnet</td>\n      <td>0x6e0f485c2c4a4c7e4c1e75e3a1d0310775fe6f9afbb3b450ba523bc4effc65d8</td>\n      <td>True</td>\n      <td>3</td>\n      <td>0xafD905Fe2EdBF5A7367A73B0F1e6a62Cb5E27D3e</td>\n      <td>0xB6C313a427fa911A4C9a119e80Feea0fe20E69F0</td>\n      <td>BNB</td>\n      <td>460200000000000000</td>\n      <td>0x000000000000000000000000d4d4aff9d42d64a9ea214cf03805390be14c1665</td>\n      <td>10075930</td>\n      <td>0xd18325314902517d0e6858a0888ed9b4873a085f9dea386256d45e6201ebd590</td>\n      <td>0xb132bdb3fbef2b140e0e7e08d4b857f6eb735e05a1452e211fc3737129c03609</td>\n      <td>262</td>\n      <td>0x8075565ecb909de90e95b635bc7218151b2fbbff797db984b2ff5dd1abc0eca0</td>\n      <td>0x46bcaf2d60c5b2df95f7a3f46527d039b85aa1f08a20a502000800b2bfd7d85c</td>\n      <td>3605760.0</td>\n      <td>8.0</td>\n      <td>False</td>\n      <td>0x</td>\n    </tr>\n    <tr>\n      <th>236</th>\n      <td>bsc_mainnet</td>\n      <td>rsk_mainnet</td>\n      <td>0xf904d2121d5c7367d60186c9bde8e9882af27802bab4529aeabde766dd872484</td>\n      <td>True</td>\n      <td>3</td>\n      <td>0x1440d19436bEeaF8517896bffB957a88EC95a00F</td>\n      <td>0xe9e7CEA3DedcA5984780Bafc599bD69ADd087D56</td>\n      <td>BUSD</td>\n      <td>5626135773004260664542</td>\n      <td>0x000000000000000000000000f9ec946c7d7fa6189147eee1c2b7bf418e7eb705</td>\n      <td>10077496</td>\n      <td>0x2eb56916a4fa9951824949b17589728d78ec22d09e4e177bb07d92243b11132d</td>\n      <td>0x29fb831ea4a20db2191d2d2c62fd9628a1d83b6b61bd846b2d93dd5992ae1663</td>\n      <td>602</td>\n      <td>0x6d56e32ea6fef8c5dd011a2870f95f9067ff7df1b4a91d067fd0964fb42a1e8f</td>\n      <td>0x10509309243e0064ef0c1a7628286887fceb70710c02605042f2de62cea2ff58</td>\n      <td>3605919.0</td>\n      <td>8.0</td>\n      <td>False</td>\n      <td>0x</td>\n    </tr>\n  </tbody>\n</table>\n<p>323 rows × 20 columns</p>\n</div>"
     },
     "execution_count": 16,
     "metadata": {},
     "output_type": "execute_result"
    }
   ],
   "source": [
    "import pandas as pd\n",
    "pd.set_option('display.max_colwidth', 80)  # transaction hashes\n",
    "\n",
    "# Run bridge_transfer_status.py rsk_eth_mainnet -o bridge_transfers.csv\n",
    "eth_transfers = pd.read_csv('rsk_eth_2021-08-16.csv')\n",
    "bsc_transfers = pd.read_csv('rsk_bsc_2021-08-16.csv')\n",
    "transfers = eth_transfers.append(bsc_transfers)\n",
    "#transfers = eth_transfers\n",
    "transfers"
   ]
  },
  {
   "cell_type": "code",
   "execution_count": 17,
   "outputs": [
    {
     "data": {
      "text/plain": "     from_chain     to_chain  \\\n58  rsk_mainnet  eth_mainnet   \n\n                                                        transaction_id  \\\n58  0xafe68f5d4bcb0504270ddd1de3761fea6d749c6b136726537602a878eafebc72   \n\n    was_processed  num_votes                            receiver_address  \\\n58          False          0  0x224CEdf6cc71675C1ea066987edc1f77C0da229B   \n\n                                 token_address token_symbol  \\\n58  0xdAC17F958D2ee523a2206206994597C13D831ec7       USDTes   \n\n                amount_wei user_data  event_block_number  \\\n58  5000000000000000000000        0x             3605876   \n\n                                                      event_block_hash  \\\n58  0xde3cb390fd45d3d2a24d505b554e8890b31f765cffc399b3eb3586152e305f92   \n\n                                                event_transaction_hash  \\\n58  0x7463de4a1dbf8cd2ad5473e047d8fc56bd5a808effb6f1583afdee4887274387   \n\n    event_log_index executed_transaction_hash executed_block_hash  \\\n58                8                       NaN                 NaN   \n\n    executed_block_number  executed_log_index  \\\n58                    NaN                 NaN   \n\n    has_error_token_receiver_events error_data  \n58                            False         0x  ",
      "text/html": "<div>\n<style scoped>\n    .dataframe tbody tr th:only-of-type {\n        vertical-align: middle;\n    }\n\n    .dataframe tbody tr th {\n        vertical-align: top;\n    }\n\n    .dataframe thead th {\n        text-align: right;\n    }\n</style>\n<table border=\"1\" class=\"dataframe\">\n  <thead>\n    <tr style=\"text-align: right;\">\n      <th></th>\n      <th>from_chain</th>\n      <th>to_chain</th>\n      <th>transaction_id</th>\n      <th>was_processed</th>\n      <th>num_votes</th>\n      <th>receiver_address</th>\n      <th>token_address</th>\n      <th>token_symbol</th>\n      <th>amount_wei</th>\n      <th>user_data</th>\n      <th>event_block_number</th>\n      <th>event_block_hash</th>\n      <th>event_transaction_hash</th>\n      <th>event_log_index</th>\n      <th>executed_transaction_hash</th>\n      <th>executed_block_hash</th>\n      <th>executed_block_number</th>\n      <th>executed_log_index</th>\n      <th>has_error_token_receiver_events</th>\n      <th>error_data</th>\n    </tr>\n  </thead>\n  <tbody>\n    <tr>\n      <th>58</th>\n      <td>rsk_mainnet</td>\n      <td>eth_mainnet</td>\n      <td>0xafe68f5d4bcb0504270ddd1de3761fea6d749c6b136726537602a878eafebc72</td>\n      <td>False</td>\n      <td>0</td>\n      <td>0x224CEdf6cc71675C1ea066987edc1f77C0da229B</td>\n      <td>0xdAC17F958D2ee523a2206206994597C13D831ec7</td>\n      <td>USDTes</td>\n      <td>5000000000000000000000</td>\n      <td>0x</td>\n      <td>3605876</td>\n      <td>0xde3cb390fd45d3d2a24d505b554e8890b31f765cffc399b3eb3586152e305f92</td>\n      <td>0x7463de4a1dbf8cd2ad5473e047d8fc56bd5a808effb6f1583afdee4887274387</td>\n      <td>8</td>\n      <td>NaN</td>\n      <td>NaN</td>\n      <td>NaN</td>\n      <td>NaN</td>\n      <td>False</td>\n      <td>0x</td>\n    </tr>\n  </tbody>\n</table>\n</div>"
     },
     "execution_count": 17,
     "metadata": {},
     "output_type": "execute_result"
    }
   ],
   "source": [
    "unprocessed = transfers[~transfers.was_processed]\n",
    "#print(\"Unprocessed transactions:\")\n",
    "#unprocessed\n",
    "unprocessed\n"
   ],
   "metadata": {
    "collapsed": false,
    "pycharm": {
     "name": "#%%\n"
    }
   }
  },
  {
   "cell_type": "code",
   "execution_count": 3,
   "outputs": [],
   "source": [
    "#for i, row in enumerate(unprocessed.to_dict(orient='records'), start=1):\n",
    "#    print(f'#{i}')\n",
    "#    for key, value in row.items():\n",
    "#        print(key.ljust(24), value)\n",
    "#"
   ],
   "metadata": {
    "collapsed": false,
    "pycharm": {
     "name": "#%%\n"
    }
   }
  },
  {
   "cell_type": "code",
   "execution_count": 4,
   "outputs": [],
   "source": [
    "#txhashes = [\n",
    "#    '0xf123daf79352fd4a7e5b8fdf119802856559c0ca876f25d3a0f17cb9431d9c44',\n",
    "#    '0x0ce595fed12a627c72327237f92ea8ff6d473f56f8c420c8160fcf4b9435659d',\n",
    "#]\n",
    "#transfer1 = transfers[transfers.event_transaction_hash == txhashes[0]]\n",
    "#transfer2 = transfers[transfers.event_transaction_hash == txhashes[1]]\n",
    "#print(\"Transfer1\")\n",
    "#print(transfer1.iloc[0])\n",
    "#print(\"\\nTransfer2\")\n",
    "#print(transfer2.iloc[0])\n",
    "#print(\"\\nBSC\")\n",
    "#bsc_transfers[bsc_transfers.event_transaction_hash == '0xfa3048db5d4ae88f545491253e072665ff3940b0d0d6f06d166e26c7d684d64a'].iloc[0]\n"
   ],
   "metadata": {
    "collapsed": false,
    "pycharm": {
     "name": "#%%\n"
    }
   }
  },
  {
   "cell_type": "code",
   "execution_count": 5,
   "outputs": [],
   "source": [
    "#x = transfers[transfers.has_error_token_receiver_events]\n",
    "#x = unprocessed\n",
    "#for i, row in enumerate(x.iloc):\n",
    "#    print(f'#{i}')\n",
    "#    print(row)\n"
   ],
   "metadata": {
    "collapsed": false,
    "pycharm": {
     "name": "#%%\n"
    }
   }
  },
  {
   "cell_type": "code",
   "execution_count": 19,
   "outputs": [
    {
     "data": {
      "text/plain": "Empty DataFrame\nColumns: [from_chain, to_chain, transaction_id, was_processed, num_votes, receiver_address, token_address, token_symbol, amount_wei, user_data, event_block_number, event_block_hash, event_transaction_hash, event_log_index, executed_transaction_hash, executed_block_hash, executed_block_number, executed_log_index, has_error_token_receiver_events, error_data]\nIndex: []",
      "text/html": "<div>\n<style scoped>\n    .dataframe tbody tr th:only-of-type {\n        vertical-align: middle;\n    }\n\n    .dataframe tbody tr th {\n        vertical-align: top;\n    }\n\n    .dataframe thead th {\n        text-align: right;\n    }\n</style>\n<table border=\"1\" class=\"dataframe\">\n  <thead>\n    <tr style=\"text-align: right;\">\n      <th></th>\n      <th>from_chain</th>\n      <th>to_chain</th>\n      <th>transaction_id</th>\n      <th>was_processed</th>\n      <th>num_votes</th>\n      <th>receiver_address</th>\n      <th>token_address</th>\n      <th>token_symbol</th>\n      <th>amount_wei</th>\n      <th>user_data</th>\n      <th>event_block_number</th>\n      <th>event_block_hash</th>\n      <th>event_transaction_hash</th>\n      <th>event_log_index</th>\n      <th>executed_transaction_hash</th>\n      <th>executed_block_hash</th>\n      <th>executed_block_number</th>\n      <th>executed_log_index</th>\n      <th>has_error_token_receiver_events</th>\n      <th>error_data</th>\n    </tr>\n  </thead>\n  <tbody>\n  </tbody>\n</table>\n</div>"
     },
     "execution_count": 19,
     "metadata": {},
     "output_type": "execute_result"
    }
   ],
   "source": [
    "transfers[transfers['event_transaction_hash'].str.lower() == '0xafb9f8e0dba12156dd5af25b837e523454702109a301ee59b0c0ee575df30926']\n",
    "#transfers[transfers['receiver_address'].str.lower() == '0xf9ec946c7d7fa6189147eee1c2b7bf418e7eb705']"
   ],
   "metadata": {
    "collapsed": false,
    "pycharm": {
     "name": "#%%\n"
    }
   }
  }
 ],
 "metadata": {
  "kernelspec": {
   "display_name": "Python 3",
   "language": "python",
   "name": "python3"
  },
  "language_info": {
   "codemirror_mode": {
    "name": "ipython",
    "version": 2
   },
   "file_extension": ".py",
   "mimetype": "text/x-python",
   "name": "python",
   "nbconvert_exporter": "python",
   "pygments_lexer": "ipython2",
   "version": "2.7.6"
  }
 },
 "nbformat": 4,
 "nbformat_minor": 0
}